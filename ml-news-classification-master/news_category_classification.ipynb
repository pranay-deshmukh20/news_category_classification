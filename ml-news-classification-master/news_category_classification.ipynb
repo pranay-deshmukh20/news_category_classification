{
  "nbformat": 4,
  "nbformat_minor": 0,
  "metadata": {
    "kernelspec": {
      "display_name": "Python 3",
      "language": "python",
      "name": "python3"
    },
    "language_info": {
      "codemirror_mode": {
        "name": "ipython",
        "version": 3
      },
      "file_extension": ".py",
      "mimetype": "text/x-python",
      "name": "python",
      "nbconvert_exporter": "python",
      "pygments_lexer": "ipython3",
      "version": "3.8.5"
    },
    "colab": {
      "name": "news_category_classification.ipynb",
      "provenance": []
    }
  },
  "cells": [
    {
      "cell_type": "markdown",
      "metadata": {
        "id": "aIg9iHqvdS-K"
      },
      "source": [
        "IMPORT LIBRARIES"
      ]
    },
    {
      "cell_type": "code",
      "metadata": {
        "id": "Ao9tSh8ZdS-X"
      },
      "source": [
        "# Dataframe\n",
        "import pandas as pd\n",
        "\n",
        "# Maptplolib\n",
        "import matplotlib.pyplot as plt \n",
        "\n",
        "#Numpy\n",
        "import numpy as np \n",
        "\n",
        "# Seaborn\n",
        "import seaborn as sns \n",
        "import pickle\n",
        "\n",
        "# Scikit-learn\n",
        "from sklearn.metrics import confusion_matrix,classification_report\n",
        "from sklearn.naive_bayes import MultinomialNB\n",
        "from sklearn.linear_model import LogisticRegression\n",
        "from sklearn.ensemble import RandomForestClassifier\n",
        "from sklearn.metrics import confusion_matrix\n",
        "from sklearn import metrics"
      ],
      "execution_count": 17,
      "outputs": []
    },
    {
      "cell_type": "markdown",
      "metadata": {
        "id": "SJVpNlpNdS-Z"
      },
      "source": [
        "IMPORT DATA"
      ]
    },
    {
      "cell_type": "code",
      "metadata": {
        "colab": {
          "base_uri": "https://localhost:8080/",
          "height": 206
        },
        "id": "U3ddTtu9dS-a",
        "outputId": "2933fb89-85f2-4e81-930e-d08e0dd5ab00"
      },
      "source": [
        "df = pd.read_csv('/content/news-data.csv')\n",
        "df.head()"
      ],
      "execution_count": 2,
      "outputs": [
        {
          "output_type": "execute_result",
          "data": {
            "text/html": [
              "<div>\n",
              "<style scoped>\n",
              "    .dataframe tbody tr th:only-of-type {\n",
              "        vertical-align: middle;\n",
              "    }\n",
              "\n",
              "    .dataframe tbody tr th {\n",
              "        vertical-align: top;\n",
              "    }\n",
              "\n",
              "    .dataframe thead th {\n",
              "        text-align: right;\n",
              "    }\n",
              "</style>\n",
              "<table border=\"1\" class=\"dataframe\">\n",
              "  <thead>\n",
              "    <tr style=\"text-align: right;\">\n",
              "      <th></th>\n",
              "      <th>category</th>\n",
              "      <th>text</th>\n",
              "    </tr>\n",
              "  </thead>\n",
              "  <tbody>\n",
              "    <tr>\n",
              "      <th>0</th>\n",
              "      <td>tech</td>\n",
              "      <td>tv future in the hands of viewers with home th...</td>\n",
              "    </tr>\n",
              "    <tr>\n",
              "      <th>1</th>\n",
              "      <td>business</td>\n",
              "      <td>worldcom boss  left books alone  former worldc...</td>\n",
              "    </tr>\n",
              "    <tr>\n",
              "      <th>2</th>\n",
              "      <td>sport</td>\n",
              "      <td>tigers wary of farrell  gamble  leicester say ...</td>\n",
              "    </tr>\n",
              "    <tr>\n",
              "      <th>3</th>\n",
              "      <td>sport</td>\n",
              "      <td>yeading face newcastle in fa cup premiership s...</td>\n",
              "    </tr>\n",
              "    <tr>\n",
              "      <th>4</th>\n",
              "      <td>entertainment</td>\n",
              "      <td>ocean s twelve raids box office ocean s twelve...</td>\n",
              "    </tr>\n",
              "  </tbody>\n",
              "</table>\n",
              "</div>"
            ],
            "text/plain": [
              "        category                                               text\n",
              "0           tech  tv future in the hands of viewers with home th...\n",
              "1       business  worldcom boss  left books alone  former worldc...\n",
              "2          sport  tigers wary of farrell  gamble  leicester say ...\n",
              "3          sport  yeading face newcastle in fa cup premiership s...\n",
              "4  entertainment  ocean s twelve raids box office ocean s twelve..."
            ]
          },
          "metadata": {},
          "execution_count": 2
        }
      ]
    },
    {
      "cell_type": "code",
      "metadata": {
        "colab": {
          "base_uri": "https://localhost:8080/"
        },
        "id": "gsN58PMXdS-c",
        "outputId": "4b8b2dd9-47e9-4a32-b6b2-759954b8bc3c"
      },
      "source": [
        "df.shape"
      ],
      "execution_count": 3,
      "outputs": [
        {
          "output_type": "execute_result",
          "data": {
            "text/plain": [
              "(2225, 2)"
            ]
          },
          "metadata": {},
          "execution_count": 3
        }
      ]
    },
    {
      "cell_type": "code",
      "metadata": {
        "colab": {
          "base_uri": "https://localhost:8080/"
        },
        "id": "iF-yyj4bdS-d",
        "outputId": "b17e79b7-04ed-4864-963c-a303fa0341fe"
      },
      "source": [
        "# Check for nulll values\n",
        "df.isnull().sum()"
      ],
      "execution_count": 4,
      "outputs": [
        {
          "output_type": "execute_result",
          "data": {
            "text/plain": [
              "category    0\n",
              "text        0\n",
              "dtype: int64"
            ]
          },
          "metadata": {},
          "execution_count": 4
        }
      ]
    },
    {
      "cell_type": "code",
      "metadata": {
        "colab": {
          "base_uri": "https://localhost:8080/"
        },
        "id": "ShnVpWI9dS-d",
        "outputId": "f47c2e91-e79b-407e-816c-efbce9d5fc7f"
      },
      "source": [
        "df['category'].value_counts()"
      ],
      "execution_count": 5,
      "outputs": [
        {
          "output_type": "execute_result",
          "data": {
            "text/plain": [
              "sport            511\n",
              "business         510\n",
              "politics         417\n",
              "tech             401\n",
              "entertainment    386\n",
              "Name: category, dtype: int64"
            ]
          },
          "metadata": {},
          "execution_count": 5
        }
      ]
    },
    {
      "cell_type": "code",
      "metadata": {
        "colab": {
          "base_uri": "https://localhost:8080/",
          "height": 410
        },
        "id": "NroO-dbMdS-e",
        "outputId": "6f465c85-be7d-477f-af0a-a1fb38ea1083"
      },
      "source": [
        "df['category'].value_counts().plot(kind='barh', figsize=(8, 6))\n",
        "plt.xlabel(\"News Type\", labelpad=10)\n",
        "plt.ylabel(\"Count\", labelpad=10)\n",
        "plt.title(\"Count Plot for Category\");"
      ],
      "execution_count": 6,
      "outputs": [
        {
          "output_type": "display_data",
          "data": {
            "image/png": "[encoded data removed]",
            "text/plain": [
              "<Figure size 576x432 with 1 Axes>"
            ]
          },
          "metadata": {
            "needs_background": "light"
          }
        }
      ]
    },
    {
      "cell_type": "markdown",
      "metadata": {
        "id": "k7HRnco2dS-f"
      },
      "source": [
        "DATA CLEANING AND PREPROCESSING"
      ]
    },
    {
      "cell_type": "code",
      "metadata": {
        "colab": {
          "base_uri": "https://localhost:8080/"
        },
        "id": "YbV8AW7zdS-g",
        "outputId": "6c32a110-14c8-4a1f-f23f-23518a026cd3"
      },
      "source": [
        "#Data cleaning and preprocessing\n",
        "#Regular Expressions for cleaning the text\n",
        "import re\n",
        "import nltk\n",
        "nltk.download('stopwords')\n",
        "\n",
        "from nltk.corpus import stopwords\n",
        "from nltk.stem.porter import PorterStemmer\n",
        "#Object for porterstem\n",
        "ps = PorterStemmer()\n",
        "\n",
        "corpus = []          #after the cleaning we have to store the sentence in perticular list\n",
        "\n",
        "for i in range(0, len(df)):\n",
        "    review = re.sub('[^a-zA-Z]', ' ', df.text[i])\n",
        "    review = review.lower()\n",
        "    review = review.split()\n",
        "    \n",
        "    review = [ps.stem(word) for word in review if not word in stopwords.words('english')]\n",
        "    review = ' '.join(review)\n",
        "    corpus.append(review)"
      ],
      "execution_count": 7,
      "outputs": [
        {
          "output_type": "stream",
          "name": "stdout",
          "text": [
            "[nltk_data] Downloading package stopwords to /root/nltk_data...\n",
            "[nltk_data]   Unzipping corpora/stopwords.zip.\n"
          ]
        }
      ]
    },
    {
      "cell_type": "code",
      "metadata": {
        "id": "i_QfNtYydS-i"
      },
      "source": [
        "# Creating the Bag of Words model\n",
        "from sklearn.feature_extraction.text import CountVectorizer\n",
        "countvectorizer = CountVectorizer()\n",
        "\n",
        "#X = count_vectorizer.fit_transform(corpus).toarray()\n",
        "\n",
        "#from sklearn.feature_extraction.text import TfidfVectorizer \n",
        "#count_vectorizer = TfidfVectorizer() \n",
        "#X = count_vectorizer.fit_transform(corpus).toarray()"
      ],
      "execution_count": 8,
      "outputs": []
    },
    {
      "cell_type": "code",
      "metadata": {
        "id": "gESiJlp2dS-i"
      },
      "source": [
        "X = df['text']\n",
        "y = df['category']"
      ],
      "execution_count": 9,
      "outputs": []
    },
    {
      "cell_type": "code",
      "metadata": {
        "id": "UAArcfz3dS-j"
      },
      "source": [
        "# Train Test Split\n",
        "\n",
        "from sklearn.model_selection import train_test_split\n",
        "X_train, X_test, y_train, y_test = train_test_split(X, y, test_size = 0.30, random_state = 0)"
      ],
      "execution_count": 10,
      "outputs": []
    },
    {
      "cell_type": "code",
      "metadata": {
        "id": "nVf6j6UfdS-j"
      },
      "source": [
        "count_train = countvectorizer.fit_transform(X_train.values)\n",
        "count_test = countvectorizer.transform(X_test.values)"
      ],
      "execution_count": 11,
      "outputs": []
    },
    {
      "cell_type": "markdown",
      "metadata": {
        "id": "tLfdVTo6dS-k"
      },
      "source": [
        "#NAIVE BAYES CLASSIFIER"
      ]
    },
    {
      "cell_type": "code",
      "metadata": {
        "colab": {
          "base_uri": "https://localhost:8080/"
        },
        "id": "J__UzF88dS-k",
        "outputId": "8cc591b8-101b-4f6a-b3ce-3bb329eb2fb1"
      },
      "source": [
        "# Training model using Naive bayes classifier\n",
        "\n",
        "from sklearn.naive_bayes import MultinomialNB\n",
        "nb_classifier = MultinomialNB()\n",
        "nb_classifier.fit(count_train,y_train)"
      ],
      "execution_count": 12,
      "outputs": [
        {
          "output_type": "execute_result",
          "data": {
            "text/plain": [
              "MultinomialNB(alpha=1.0, class_prior=None, fit_prior=True)"
            ]
          },
          "metadata": {},
          "execution_count": 12
        }
      ]
    },
    {
      "cell_type": "code",
      "metadata": {
        "id": "Bwx71owndS-l"
      },
      "source": [
        "y_pred=nb_classifier.predict(count_test)"
      ],
      "execution_count": 13,
      "outputs": []
    },
    {
      "cell_type": "code",
      "metadata": {
        "colab": {
          "base_uri": "https://localhost:8080/"
        },
        "id": "_5I6SOUudS-l",
        "outputId": "8de157af-a247-417e-c80f-477e98a689d4"
      },
      "source": [
        "y_pred"
      ],
      "execution_count": 14,
      "outputs": [
        {
          "output_type": "execute_result",
          "data": {
            "text/plain": [
              "array(['politics', 'sport', 'sport', 'sport', 'sport', 'entertainment',\n",
              "       'politics', 'business', 'business', 'sport', 'entertainment',\n",
              "       'sport', 'business', 'business', 'entertainment', 'sport', 'sport',\n",
              "       'business', 'tech', 'tech', 'politics', 'sport', 'sport',\n",
              "       'politics', 'politics', 'tech', 'tech', 'sport', 'sport',\n",
              "       'entertainment', 'entertainment', 'entertainment', 'sport',\n",
              "       'politics', 'tech', 'business', 'politics', 'business',\n",
              "       'entertainment', 'business', 'tech', 'politics', 'tech', 'sport',\n",
              "       'politics', 'sport', 'business', 'entertainment', 'business',\n",
              "       'entertainment', 'sport', 'business', 'politics', 'politics',\n",
              "       'sport', 'sport', 'politics', 'business', 'business', 'sport',\n",
              "       'tech', 'entertainment', 'entertainment', 'business', 'business',\n",
              "       'entertainment', 'business', 'tech', 'business', 'sport', 'sport',\n",
              "       'business', 'tech', 'sport', 'entertainment', 'tech', 'sport',\n",
              "       'politics', 'tech', 'sport', 'sport', 'sport', 'entertainment',\n",
              "       'business', 'tech', 'business', 'politics', 'business', 'politics',\n",
              "       'entertainment', 'tech', 'entertainment', 'sport', 'politics',\n",
              "       'sport', 'sport', 'entertainment', 'entertainment', 'tech',\n",
              "       'entertainment', 'politics', 'tech', 'entertainment', 'tech',\n",
              "       'sport', 'politics', 'sport', 'entertainment', 'sport', 'sport',\n",
              "       'entertainment', 'politics', 'entertainment', 'entertainment',\n",
              "       'sport', 'business', 'tech', 'business', 'business', 'business',\n",
              "       'entertainment', 'business', 'sport', 'business', 'tech',\n",
              "       'politics', 'entertainment', 'entertainment', 'politics', 'sport',\n",
              "       'entertainment', 'sport', 'politics', 'politics', 'sport',\n",
              "       'politics', 'business', 'tech', 'tech', 'sport', 'sport',\n",
              "       'politics', 'sport', 'sport', 'sport', 'entertainment', 'tech',\n",
              "       'business', 'sport', 'entertainment', 'entertainment', 'sport',\n",
              "       'politics', 'tech', 'politics', 'business', 'tech', 'sport',\n",
              "       'entertainment', 'business', 'business', 'business', 'tech',\n",
              "       'tech', 'entertainment', 'business', 'tech', 'politics', 'tech',\n",
              "       'sport', 'tech', 'tech', 'business', 'entertainment', 'sport',\n",
              "       'business', 'politics', 'politics', 'business', 'business',\n",
              "       'politics', 'sport', 'tech', 'politics', 'politics', 'tech',\n",
              "       'entertainment', 'tech', 'sport', 'sport', 'politics',\n",
              "       'entertainment', 'tech', 'entertainment', 'tech', 'tech', 'sport',\n",
              "       'business', 'business', 'sport', 'tech', 'entertainment', 'sport',\n",
              "       'entertainment', 'politics', 'sport', 'sport', 'sport', 'sport',\n",
              "       'tech', 'entertainment', 'politics', 'business', 'sport', 'tech',\n",
              "       'business', 'tech', 'business', 'entertainment', 'entertainment',\n",
              "       'business', 'politics', 'sport', 'sport', 'tech', 'sport',\n",
              "       'business', 'tech', 'business', 'sport', 'entertainment', 'tech',\n",
              "       'politics', 'politics', 'tech', 'tech', 'sport', 'business',\n",
              "       'business', 'business', 'business', 'tech', 'politics',\n",
              "       'entertainment', 'entertainment', 'tech', 'tech', 'entertainment',\n",
              "       'business', 'politics', 'business', 'business', 'sport',\n",
              "       'business', 'politics', 'sport', 'entertainment', 'business',\n",
              "       'politics', 'business', 'tech', 'politics', 'tech', 'sport',\n",
              "       'tech', 'politics', 'business', 'sport', 'sport', 'entertainment',\n",
              "       'entertainment', 'business', 'entertainment', 'politics', 'tech',\n",
              "       'entertainment', 'business', 'sport', 'entertainment', 'business',\n",
              "       'sport', 'business', 'tech', 'entertainment', 'politics',\n",
              "       'politics', 'entertainment', 'tech', 'business', 'sport',\n",
              "       'entertainment', 'sport', 'politics', 'tech', 'sport',\n",
              "       'entertainment', 'politics', 'politics', 'entertainment', 'sport',\n",
              "       'politics', 'business', 'sport', 'business', 'business', 'sport',\n",
              "       'business', 'tech', 'entertainment', 'politics', 'business',\n",
              "       'sport', 'sport', 'sport', 'tech', 'entertainment', 'tech',\n",
              "       'sport', 'sport', 'sport', 'politics', 'business', 'tech',\n",
              "       'entertainment', 'entertainment', 'sport', 'sport',\n",
              "       'entertainment', 'entertainment', 'entertainment', 'business',\n",
              "       'tech', 'sport', 'tech', 'business', 'entertainment', 'tech',\n",
              "       'business', 'business', 'tech', 'entertainment', 'sport',\n",
              "       'business', 'business', 'entertainment', 'business', 'business',\n",
              "       'politics', 'tech', 'politics', 'sport', 'entertainment', 'sport',\n",
              "       'politics', 'sport', 'entertainment', 'politics', 'sport', 'sport',\n",
              "       'tech', 'politics', 'politics', 'sport', 'tech', 'tech',\n",
              "       'entertainment', 'business', 'tech', 'tech', 'tech',\n",
              "       'entertainment', 'business', 'sport', 'tech', 'politics', 'sport',\n",
              "       'tech', 'tech', 'sport', 'entertainment', 'sport', 'sport',\n",
              "       'sport', 'business', 'business', 'tech', 'tech', 'politics',\n",
              "       'entertainment', 'sport', 'entertainment', 'business', 'sport',\n",
              "       'politics', 'entertainment', 'politics', 'politics',\n",
              "       'entertainment', 'politics', 'business', 'sport', 'sport',\n",
              "       'business', 'entertainment', 'politics', 'sport', 'politics',\n",
              "       'politics', 'sport', 'business', 'politics', 'tech', 'politics',\n",
              "       'entertainment', 'tech', 'entertainment', 'business', 'sport',\n",
              "       'tech', 'sport', 'sport', 'business', 'tech', 'politics',\n",
              "       'entertainment', 'business', 'politics', 'business', 'business',\n",
              "       'politics', 'tech', 'sport', 'business', 'tech', 'business',\n",
              "       'politics', 'politics', 'business', 'business', 'business',\n",
              "       'sport', 'sport', 'politics', 'business', 'sport', 'sport', 'tech',\n",
              "       'politics', 'politics', 'business', 'politics', 'sport', 'sport',\n",
              "       'business', 'tech', 'sport', 'business', 'politics',\n",
              "       'entertainment', 'business', 'entertainment', 'sport', 'sport',\n",
              "       'entertainment', 'business', 'business', 'politics', 'politics',\n",
              "       'politics', 'tech', 'tech', 'sport', 'entertainment', 'politics',\n",
              "       'sport', 'politics', 'business', 'sport', 'business',\n",
              "       'entertainment', 'politics', 'entertainment', 'sport', 'sport',\n",
              "       'entertainment', 'sport', 'tech', 'politics', 'business', 'sport',\n",
              "       'business', 'business', 'sport', 'entertainment', 'business',\n",
              "       'politics', 'sport', 'business', 'sport', 'sport', 'sport',\n",
              "       'entertainment', 'business', 'tech', 'tech', 'business', 'tech',\n",
              "       'sport', 'sport', 'business', 'tech', 'sport', 'entertainment',\n",
              "       'politics', 'tech', 'politics', 'politics', 'sport', 'sport',\n",
              "       'entertainment', 'sport', 'tech', 'business', 'entertainment',\n",
              "       'tech', 'sport', 'tech', 'sport', 'business', 'politics', 'tech',\n",
              "       'sport', 'business', 'business', 'business', 'business', 'sport',\n",
              "       'politics', 'politics', 'business', 'politics', 'sport', 'tech',\n",
              "       'sport', 'politics', 'business', 'tech', 'tech', 'sport', 'sport',\n",
              "       'business', 'sport', 'sport', 'entertainment', 'business', 'sport',\n",
              "       'politics', 'politics', 'business', 'tech', 'business',\n",
              "       'entertainment', 'sport', 'tech', 'tech', 'business', 'sport',\n",
              "       'tech', 'politics', 'sport', 'business', 'business', 'business',\n",
              "       'business', 'politics', 'sport', 'politics', 'entertainment',\n",
              "       'entertainment', 'business', 'politics', 'tech', 'business',\n",
              "       'tech', 'politics', 'politics', 'tech', 'entertainment',\n",
              "       'politics', 'tech', 'politics', 'tech', 'politics', 'politics',\n",
              "       'sport', 'sport', 'tech', 'tech', 'business', 'tech', 'politics',\n",
              "       'entertainment', 'sport', 'sport', 'sport', 'business', 'sport',\n",
              "       'politics', 'sport', 'entertainment', 'business', 'tech',\n",
              "       'politics', 'business', 'sport', 'business', 'entertainment',\n",
              "       'business', 'business', 'politics', 'sport', 'entertainment',\n",
              "       'entertainment', 'sport', 'business', 'sport', 'entertainment',\n",
              "       'sport', 'tech', 'sport', 'tech', 'business', 'sport', 'sport',\n",
              "       'sport', 'sport', 'tech', 'tech', 'tech', 'politics',\n",
              "       'entertainment', 'sport', 'sport', 'tech', 'sport', 'sport',\n",
              "       'business', 'business', 'tech', 'politics', 'politics', 'tech',\n",
              "       'entertainment', 'sport', 'politics', 'entertainment', 'politics',\n",
              "       'tech', 'sport', 'sport', 'entertainment', 'business', 'sport',\n",
              "       'business', 'business', 'business', 'sport', 'politics'],\n",
              "      dtype='<U13')"
            ]
          },
          "metadata": {},
          "execution_count": 14
        }
      ]
    },
    {
      "cell_type": "code",
      "metadata": {
        "colab": {
          "base_uri": "https://localhost:8080/"
        },
        "id": "LQUOsQ_UdS-m",
        "outputId": "f26a4527-1388-4647-83f7-278a625403f9"
      },
      "source": [
        "print(classification_report(y_test, y_pred))"
      ],
      "execution_count": 15,
      "outputs": [
        {
          "output_type": "stream",
          "name": "stdout",
          "text": [
            "               precision    recall  f1-score   support\n",
            "\n",
            "     business       0.99      0.95      0.97       152\n",
            "entertainment       0.98      0.96      0.97       109\n",
            "     politics       0.93      0.98      0.96       113\n",
            "        sport       1.00      1.00      1.00       177\n",
            "         tech       0.96      0.98      0.97       117\n",
            "\n",
            "     accuracy                           0.98       668\n",
            "    macro avg       0.97      0.98      0.97       668\n",
            " weighted avg       0.98      0.98      0.98       668\n",
            "\n"
          ]
        }
      ]
    },
    {
      "cell_type": "code",
      "metadata": {
        "colab": {
          "base_uri": "https://localhost:8080/"
        },
        "id": "W7EpUXRWdS-m",
        "outputId": "5e274f11-6b70-401a-a302-a1105f267576"
      },
      "source": [
        "print(metrics.accuracy_score(y_test, y_pred))"
      ],
      "execution_count": 18,
      "outputs": [
        {
          "output_type": "stream",
          "name": "stdout",
          "text": [
            "0.9760479041916168\n"
          ]
        }
      ]
    },
    {
      "cell_type": "code",
      "metadata": {
        "colab": {
          "base_uri": "https://localhost:8080/"
        },
        "id": "PBM5sfqPdS-n",
        "outputId": "3f296d59-66d3-4e6c-ed8f-310d19b4b42a"
      },
      "source": [
        "confusion_matrix(y_test, y_pred)"
      ],
      "execution_count": 19,
      "outputs": [
        {
          "output_type": "execute_result",
          "data": {
            "text/plain": [
              "array([[144,   0,   6,   0,   2],\n",
              "       [  1, 105,   1,   0,   2],\n",
              "       [  0,   1, 111,   0,   1],\n",
              "       [  0,   0,   0, 177,   0],\n",
              "       [  0,   1,   1,   0, 115]])"
            ]
          },
          "metadata": {},
          "execution_count": 19
        }
      ]
    },
    {
      "cell_type": "markdown",
      "metadata": {
        "id": "XYPWlVt4dS-o"
      },
      "source": [
        "\n",
        "\n",
        "# Lemmatization\n",
        "\n",
        "lemmatizer = WordNetLemmatizer()\n",
        "\n",
        "for i in range(len(sentences)):\n",
        "    words = nltk.word_tokenize(sentences[i])\n",
        "    words = [lemmatizer.lemmatize(word) for word in words if word not in set(stopwords.words('english'))]\n",
        "    sentences[i] = ' '.join(words)  \n",
        "    \n",
        "    \n",
        "    # Cleaning the texts\n",
        "import re\n",
        "from nltk.corpus import stopwords\n",
        "from nltk.stem.porter import PorterStemmer\n",
        "from nltk.stem import WordNetLemmatizer\n",
        "\n",
        "ps = PorterStemmer()\n",
        "wordnet=WordNetLemmatizer()\n",
        "sentences = nltk.sent_tokenize(paragraph)\n",
        "corpus = []\n",
        "for i in range(len(sentences)):\n",
        "    review = re.sub('[^a-zA-Z]', ' ', sentences[i])\n",
        "    review = review.lower()\n",
        "    review = review.split()\n",
        "    review = [wordnet.lemmatize(word) for word in review if not word in set(stopwords.words('english'))]\n",
        "    review = ' '.join(review)\n",
        "    corpus.append(review)\n",
        "    "
      ]
    },
    {
      "cell_type": "markdown",
      "metadata": {
        "id": "PMsz-n4udS-p"
      },
      "source": [
        "#RANDOM FOREST CLASSIFIER"
      ]
    },
    {
      "cell_type": "code",
      "metadata": {
        "id": "iN1r4KUhdS-p"
      },
      "source": [
        "model_rf=RandomForestClassifier(n_estimators=100, criterion='gini', random_state = 100)"
      ],
      "execution_count": 20,
      "outputs": []
    },
    {
      "cell_type": "code",
      "metadata": {
        "colab": {
          "base_uri": "https://localhost:8080/"
        },
        "id": "jiA2jStHdS-p",
        "outputId": "cec2a51d-7638-42c0-90c5-946b2d9791c4"
      },
      "source": [
        "model_rf.fit(count_train,y_train)"
      ],
      "execution_count": 21,
      "outputs": [
        {
          "output_type": "execute_result",
          "data": {
            "text/plain": [
              "RandomForestClassifier(bootstrap=True, ccp_alpha=0.0, class_weight=None,\n",
              "                       criterion='gini', max_depth=None, max_features='auto',\n",
              "                       max_leaf_nodes=None, max_samples=None,\n",
              "                       min_impurity_decrease=0.0, min_impurity_split=None,\n",
              "                       min_samples_leaf=1, min_samples_split=2,\n",
              "                       min_weight_fraction_leaf=0.0, n_estimators=100,\n",
              "                       n_jobs=None, oob_score=False, random_state=100,\n",
              "                       verbose=0, warm_start=False)"
            ]
          },
          "metadata": {},
          "execution_count": 21
        }
      ]
    },
    {
      "cell_type": "code",
      "metadata": {
        "id": "s9WYLirddS-q"
      },
      "source": [
        "y_pred1=model_rf.predict(count_test)"
      ],
      "execution_count": 22,
      "outputs": []
    },
    {
      "cell_type": "code",
      "metadata": {
        "colab": {
          "base_uri": "https://localhost:8080/"
        },
        "id": "FGZDyT_ygpqp",
        "outputId": "efee3179-285b-4c2b-ae17-d31393d54be2"
      },
      "source": [
        "print(metrics.accuracy_score(y_test, y_pred1))"
      ],
      "execution_count": 27,
      "outputs": [
        {
          "output_type": "stream",
          "name": "stdout",
          "text": [
            "0.9625748502994012\n"
          ]
        }
      ]
    },
    {
      "cell_type": "code",
      "metadata": {
        "colab": {
          "base_uri": "https://localhost:8080/"
        },
        "id": "4u1mmT8MdS-q",
        "outputId": "7a2c54a6-899d-4713-f40b-f6ec112bc96b"
      },
      "source": [
        "print(classification_report(y_test,y_pred1))"
      ],
      "execution_count": 23,
      "outputs": [
        {
          "output_type": "stream",
          "name": "stdout",
          "text": [
            "               precision    recall  f1-score   support\n",
            "\n",
            "     business       0.94      0.98      0.96       152\n",
            "entertainment       0.97      0.92      0.94       109\n",
            "     politics       0.95      0.94      0.95       113\n",
            "        sport       0.98      1.00      0.99       177\n",
            "         tech       0.97      0.95      0.96       117\n",
            "\n",
            "     accuracy                           0.96       668\n",
            "    macro avg       0.96      0.96      0.96       668\n",
            " weighted avg       0.96      0.96      0.96       668\n",
            "\n"
          ]
        }
      ]
    },
    {
      "cell_type": "code",
      "metadata": {
        "colab": {
          "base_uri": "https://localhost:8080/"
        },
        "id": "jBHzkeaEdS-q",
        "outputId": "c207ee7e-20da-4e33-9abd-69d437799d11"
      },
      "source": [
        "confusion_matrix(y_test, y_pred)"
      ],
      "execution_count": 24,
      "outputs": [
        {
          "output_type": "execute_result",
          "data": {
            "text/plain": [
              "array([[144,   0,   6,   0,   2],\n",
              "       [  1, 105,   1,   0,   2],\n",
              "       [  0,   1, 111,   0,   1],\n",
              "       [  0,   0,   0, 177,   0],\n",
              "       [  0,   1,   1,   0, 115]])"
            ]
          },
          "metadata": {},
          "execution_count": 24
        }
      ]
    },
    {
      "cell_type": "markdown",
      "metadata": {
        "id": "-EGKlh7JdS-r"
      },
      "source": [
        "LOGISTIC REGRESSION"
      ]
    },
    {
      "cell_type": "code",
      "metadata": {
        "id": "YaRRKfKidS-r"
      },
      "source": [
        "log = LogisticRegression(random_state = 0)"
      ],
      "execution_count": 25,
      "outputs": []
    },
    {
      "cell_type": "code",
      "metadata": {
        "id": "KcrzJjdpdS-r"
      },
      "source": [
        "log.fit(count_train, y_train)"
      ],
      "execution_count": null,
      "outputs": []
    },
    {
      "cell_type": "code",
      "metadata": {
        "colab": {
          "base_uri": "https://localhost:8080/"
        },
        "id": "jGx3S9oMdS-r",
        "outputId": "2d02b172-be8b-4682-bf0a-3730c81055de"
      },
      "source": [
        "y_pred2=log.predict(count_test)\n",
        "y_pred2"
      ],
      "execution_count": 28,
      "outputs": [
        {
          "output_type": "execute_result",
          "data": {
            "text/plain": [
              "array(['entertainment', 'sport', 'sport', 'sport', 'sport',\n",
              "       'entertainment', 'politics', 'business', 'business', 'sport',\n",
              "       'entertainment', 'sport', 'business', 'business', 'entertainment',\n",
              "       'sport', 'sport', 'business', 'tech', 'tech', 'politics', 'sport',\n",
              "       'sport', 'politics', 'politics', 'tech', 'tech', 'sport', 'sport',\n",
              "       'entertainment', 'entertainment', 'entertainment', 'sport',\n",
              "       'politics', 'tech', 'business', 'politics', 'business',\n",
              "       'entertainment', 'business', 'tech', 'politics', 'tech', 'sport',\n",
              "       'politics', 'sport', 'business', 'entertainment', 'business',\n",
              "       'entertainment', 'sport', 'business', 'politics', 'politics',\n",
              "       'sport', 'sport', 'politics', 'business', 'business', 'sport',\n",
              "       'tech', 'entertainment', 'entertainment', 'business', 'business',\n",
              "       'entertainment', 'business', 'tech', 'business', 'sport', 'sport',\n",
              "       'business', 'tech', 'sport', 'entertainment', 'tech', 'sport',\n",
              "       'entertainment', 'tech', 'sport', 'sport', 'sport',\n",
              "       'entertainment', 'business', 'tech', 'business', 'politics',\n",
              "       'business', 'politics', 'entertainment', 'business',\n",
              "       'entertainment', 'sport', 'politics', 'sport', 'sport',\n",
              "       'entertainment', 'entertainment', 'tech', 'entertainment',\n",
              "       'politics', 'tech', 'entertainment', 'tech', 'sport', 'politics',\n",
              "       'sport', 'entertainment', 'sport', 'sport', 'entertainment',\n",
              "       'politics', 'entertainment', 'entertainment', 'sport', 'business',\n",
              "       'business', 'business', 'business', 'business', 'entertainment',\n",
              "       'business', 'sport', 'business', 'tech', 'politics',\n",
              "       'entertainment', 'entertainment', 'politics', 'sport',\n",
              "       'entertainment', 'sport', 'politics', 'politics', 'sport',\n",
              "       'politics', 'business', 'tech', 'tech', 'sport', 'sport',\n",
              "       'politics', 'sport', 'sport', 'sport', 'entertainment', 'tech',\n",
              "       'business', 'sport', 'entertainment', 'entertainment', 'sport',\n",
              "       'politics', 'tech', 'politics', 'business', 'tech', 'sport',\n",
              "       'entertainment', 'business', 'business', 'business', 'tech',\n",
              "       'tech', 'entertainment', 'business', 'tech', 'politics', 'tech',\n",
              "       'sport', 'tech', 'tech', 'business', 'entertainment', 'sport',\n",
              "       'business', 'politics', 'politics', 'business', 'business',\n",
              "       'politics', 'sport', 'tech', 'politics', 'politics', 'tech',\n",
              "       'entertainment', 'tech', 'sport', 'sport', 'politics', 'business',\n",
              "       'tech', 'entertainment', 'tech', 'tech', 'sport', 'business',\n",
              "       'business', 'sport', 'tech', 'entertainment', 'sport',\n",
              "       'entertainment', 'politics', 'sport', 'sport', 'sport', 'sport',\n",
              "       'tech', 'entertainment', 'politics', 'business', 'sport',\n",
              "       'entertainment', 'business', 'tech', 'business', 'entertainment',\n",
              "       'entertainment', 'business', 'politics', 'sport', 'sport', 'tech',\n",
              "       'sport', 'business', 'tech', 'business', 'sport', 'entertainment',\n",
              "       'tech', 'tech', 'politics', 'tech', 'tech', 'sport', 'business',\n",
              "       'business', 'business', 'business', 'tech', 'politics',\n",
              "       'entertainment', 'entertainment', 'tech', 'tech', 'entertainment',\n",
              "       'business', 'politics', 'business', 'business', 'sport',\n",
              "       'business', 'politics', 'sport', 'entertainment', 'business',\n",
              "       'politics', 'sport', 'tech', 'entertainment', 'tech', 'sport',\n",
              "       'tech', 'politics', 'business', 'sport', 'sport', 'entertainment',\n",
              "       'entertainment', 'business', 'entertainment', 'politics', 'tech',\n",
              "       'entertainment', 'business', 'sport', 'entertainment', 'business',\n",
              "       'sport', 'business', 'tech', 'entertainment', 'politics',\n",
              "       'politics', 'entertainment', 'tech', 'business', 'sport',\n",
              "       'entertainment', 'sport', 'politics', 'tech', 'sport',\n",
              "       'entertainment', 'politics', 'business', 'entertainment', 'sport',\n",
              "       'politics', 'business', 'sport', 'business', 'business', 'sport',\n",
              "       'business', 'tech', 'entertainment', 'politics', 'business',\n",
              "       'sport', 'sport', 'sport', 'tech', 'entertainment', 'tech',\n",
              "       'sport', 'sport', 'sport', 'politics', 'business', 'tech',\n",
              "       'entertainment', 'entertainment', 'sport', 'sport',\n",
              "       'entertainment', 'entertainment', 'entertainment', 'business',\n",
              "       'tech', 'sport', 'tech', 'business', 'entertainment', 'tech',\n",
              "       'business', 'business', 'tech', 'entertainment', 'sport',\n",
              "       'business', 'business', 'entertainment', 'business', 'business',\n",
              "       'politics', 'tech', 'politics', 'sport', 'entertainment', 'sport',\n",
              "       'politics', 'sport', 'entertainment', 'politics', 'sport', 'sport',\n",
              "       'tech', 'politics', 'politics', 'sport', 'tech', 'tech',\n",
              "       'entertainment', 'business', 'tech', 'tech', 'tech',\n",
              "       'entertainment', 'business', 'sport', 'tech', 'politics', 'sport',\n",
              "       'tech', 'tech', 'sport', 'entertainment', 'sport', 'sport',\n",
              "       'sport', 'business', 'business', 'tech', 'tech', 'politics',\n",
              "       'entertainment', 'sport', 'entertainment', 'business', 'sport',\n",
              "       'business', 'entertainment', 'sport', 'politics', 'entertainment',\n",
              "       'politics', 'business', 'sport', 'sport', 'business',\n",
              "       'entertainment', 'politics', 'sport', 'politics', 'politics',\n",
              "       'sport', 'business', 'politics', 'tech', 'politics',\n",
              "       'entertainment', 'tech', 'entertainment', 'business', 'sport',\n",
              "       'tech', 'sport', 'sport', 'business', 'tech', 'politics',\n",
              "       'entertainment', 'business', 'politics', 'business', 'business',\n",
              "       'politics', 'tech', 'sport', 'business', 'tech', 'business',\n",
              "       'politics', 'politics', 'business', 'business', 'business',\n",
              "       'sport', 'sport', 'politics', 'business', 'sport', 'sport', 'tech',\n",
              "       'business', 'politics', 'business', 'politics', 'sport', 'sport',\n",
              "       'business', 'tech', 'sport', 'business', 'politics',\n",
              "       'entertainment', 'business', 'entertainment', 'sport', 'sport',\n",
              "       'entertainment', 'business', 'business', 'politics', 'business',\n",
              "       'politics', 'tech', 'tech', 'sport', 'entertainment', 'politics',\n",
              "       'sport', 'politics', 'business', 'sport', 'business',\n",
              "       'entertainment', 'politics', 'entertainment', 'sport', 'sport',\n",
              "       'entertainment', 'sport', 'tech', 'politics', 'business', 'sport',\n",
              "       'business', 'business', 'sport', 'entertainment', 'business',\n",
              "       'politics', 'sport', 'business', 'sport', 'sport', 'sport',\n",
              "       'entertainment', 'business', 'tech', 'tech', 'business', 'tech',\n",
              "       'sport', 'sport', 'business', 'tech', 'sport', 'entertainment',\n",
              "       'politics', 'tech', 'politics', 'politics', 'sport', 'sport',\n",
              "       'entertainment', 'sport', 'tech', 'business', 'entertainment',\n",
              "       'tech', 'sport', 'tech', 'sport', 'business', 'politics', 'tech',\n",
              "       'sport', 'politics', 'business', 'business', 'business', 'sport',\n",
              "       'politics', 'politics', 'business', 'politics', 'sport', 'tech',\n",
              "       'sport', 'business', 'business', 'tech', 'tech', 'sport', 'sport',\n",
              "       'business', 'sport', 'sport', 'entertainment', 'business', 'sport',\n",
              "       'politics', 'politics', 'business', 'tech', 'business',\n",
              "       'entertainment', 'sport', 'tech', 'tech', 'business', 'sport',\n",
              "       'tech', 'politics', 'sport', 'business', 'business', 'business',\n",
              "       'business', 'politics', 'sport', 'politics', 'entertainment',\n",
              "       'entertainment', 'business', 'politics', 'tech', 'business',\n",
              "       'tech', 'politics', 'politics', 'tech', 'entertainment',\n",
              "       'politics', 'tech', 'politics', 'tech', 'politics', 'politics',\n",
              "       'sport', 'sport', 'tech', 'tech', 'business', 'tech', 'business',\n",
              "       'entertainment', 'sport', 'sport', 'sport', 'business', 'sport',\n",
              "       'politics', 'sport', 'entertainment', 'business', 'tech',\n",
              "       'politics', 'business', 'sport', 'business', 'entertainment',\n",
              "       'business', 'business', 'politics', 'sport', 'entertainment',\n",
              "       'entertainment', 'sport', 'business', 'sport', 'entertainment',\n",
              "       'sport', 'tech', 'sport', 'tech', 'business', 'sport', 'sport',\n",
              "       'sport', 'sport', 'politics', 'tech', 'tech', 'politics',\n",
              "       'entertainment', 'sport', 'sport', 'tech', 'sport', 'sport',\n",
              "       'business', 'business', 'tech', 'politics', 'politics', 'tech',\n",
              "       'entertainment', 'sport', 'politics', 'entertainment', 'business',\n",
              "       'tech', 'sport', 'sport', 'tech', 'business', 'sport', 'business',\n",
              "       'business', 'business', 'sport', 'sport'], dtype=object)"
            ]
          },
          "metadata": {},
          "execution_count": 28
        }
      ]
    },
    {
      "cell_type": "code",
      "metadata": {
        "colab": {
          "base_uri": "https://localhost:8080/"
        },
        "id": "excVeojjgw2k",
        "outputId": "dc155015-b343-44e4-b892-1e71f7f5aa09"
      },
      "source": [
        "print(metrics.accuracy_score(y_test, y_pred2))"
      ],
      "execution_count": 29,
      "outputs": [
        {
          "output_type": "stream",
          "name": "stdout",
          "text": [
            "0.968562874251497\n"
          ]
        }
      ]
    },
    {
      "cell_type": "code",
      "metadata": {
        "colab": {
          "base_uri": "https://localhost:8080/"
        },
        "id": "ya1F2KoMdS-s",
        "outputId": "cd8bdb61-271d-4dcb-b816-fe08599b1178"
      },
      "source": [
        "print(classification_report(y_test, y_pred2))"
      ],
      "execution_count": 30,
      "outputs": [
        {
          "output_type": "stream",
          "name": "stdout",
          "text": [
            "               precision    recall  f1-score   support\n",
            "\n",
            "     business       0.95      0.96      0.96       152\n",
            "entertainment       0.96      0.96      0.96       109\n",
            "     politics       0.95      0.91      0.93       113\n",
            "        sport       0.98      1.00      0.99       177\n",
            "         tech       0.98      0.99      0.99       117\n",
            "\n",
            "     accuracy                           0.97       668\n",
            "    macro avg       0.97      0.97      0.97       668\n",
            " weighted avg       0.97      0.97      0.97       668\n",
            "\n"
          ]
        }
      ]
    },
    {
      "cell_type": "code",
      "metadata": {
        "id": "Ld1fIFfodS-s",
        "outputId": "0e3a5b97-2164-4c5b-b477-9e9307e13c09"
      },
      "source": [
        "confusion_matrix(y_test, y_pred)"
      ],
      "execution_count": null,
      "outputs": [
        {
          "data": {
            "text/plain": [
              "array([[146,   0,   4,   1,   1],\n",
              "       [  3, 105,   1,   0,   0],\n",
              "       [  3,   4, 103,   2,   1],\n",
              "       [  0,   0,   0, 177,   0],\n",
              "       [  1,   0,   0,   0, 116]], dtype=int64)"
            ]
          },
          "execution_count": 48,
          "metadata": {},
          "output_type": "execute_result"
        }
      ]
    },
    {
      "cell_type": "code",
      "metadata": {
        "colab": {
          "base_uri": "https://localhost:8080/"
        },
        "id": "hPfz6XEKdS-s",
        "outputId": "00663000-25da-4bac-9a31-6dee3ee2b865"
      },
      "source": [
        "new_data = ['India captain Virat Kohli posted a picture on social media on Sunday where he is seen with India Test teammates Umesh Yadav, Jasprit Bumrah, Ravindra Jadeja, Mohammed Siraj, Hanuma Vihari, Cheteshwar Pujara, and Mayank Agarwal. The Indian Test team is in England to play a five-Test series, starting with the first game at Trent Bridge, Nottingham from August 4. “Work done”, wrote Kohli as the caption, with an emoji indicating a workout session that the India players had. The Indians finished a three-day warm-up match against a Select County XI recently and Rahul, Jadeja, and Umesh returned with noteworthy']\n",
        "new_vector = countvectorizer.transform(new_data)\n",
        "pred =nb_classifier.predict(new_vector)\n",
        "print(pred[0])"
      ],
      "execution_count": 31,
      "outputs": [
        {
          "output_type": "stream",
          "name": "stdout",
          "text": [
            "sport\n"
          ]
        }
      ]
    },
    {
      "cell_type": "markdown",
      "metadata": {
        "id": "4QLfquq-dS-t"
      },
      "source": [
        "# save the model"
      ]
    },
    {
      "cell_type": "code",
      "metadata": {
        "id": "9UmlXcY3dS-t"
      },
      "source": [
        "f = open('nb_classifier.pickle', 'wb')\n",
        "pickle.dump(nb_classifier, f)\n",
        "f.close()\n",
        "\n",
        "f = open('countvectorizer.pickle', 'wb')\n",
        "pickle.dump(countvectorizer , f)\n",
        "f.close()"
      ],
      "execution_count": 32,
      "outputs": []
    },
    {
      "cell_type": "code",
      "metadata": {
        "id": "zr5ctJtwdS-t"
      },
      "source": [
        "countvectorizer = pickle.load(open('countvectorizer.pickle', 'rb'))\n",
        "nb_classifier =  pickle.load(open('nb_classifier.pickle', 'rb'))"
      ],
      "execution_count": 33,
      "outputs": []
    }
  ]
}